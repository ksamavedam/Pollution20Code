{
 "cells": [
  {
   "cell_type": "code",
   "execution_count": 1,
   "metadata": {},
   "outputs": [],
   "source": [
    "import json\n",
    "import urllib \n",
    "import seaborn as sns\n",
    "import numpy as np\n",
    "import matplotlib.pyplot as plt\n",
    "from scipy.stats import genextreme as gev\n",
    "import scipy.stats as stats\n",
    "import pandas as pd\n",
    "import datetime"
   ]
  },
  {
   "cell_type": "code",
   "execution_count": 2,
   "metadata": {},
   "outputs": [],
   "source": [
    "county='WashDC'\n",
    "#county='Baltimore_'"
   ]
  },
  {
   "cell_type": "code",
   "execution_count": 3,
   "metadata": {},
   "outputs": [],
   "source": [
    "# Hard Code params with proper names\n",
    "# at the\n",
    "params_dict = {'42101': 'CarbonMonoxide', \n",
    "               '42401': 'SulfurDioxide', \n",
    "               '42602': 'NitrogenDioxide', \n",
    "               '44201': 'Ozone', \n",
    "               '88101': 'PM2.5LocalConditions'}\n",
    "params_units = {'42101': 'Parts per million', \n",
    "                '42401': 'Parts per billion', \n",
    "                '42602': 'Parts per billion', \n",
    "                '44201': 'Parts per million', \n",
    "                '88101': 'Micrograms/cubic meter (LC)'}"
   ]
  },
  {
   "cell_type": "code",
   "execution_count": 4,
   "metadata": {},
   "outputs": [],
   "source": [
    "def readAndDisplayFile(c,p,y):\n",
    "    f_name = '../Anjali/data/'+c+p+'_'+y+'.json'\n",
    "    #print(f_name)\n",
    "    with open(f_name) as json_file:\n",
    "        data = json.load(json_file)\n",
    "        #print(data)\n",
    "        df = pd.DataFrame.from_dict(data['Data'])\n",
    "        #print(df.columns)\n",
    "        if (df.size != 0) :\n",
    "            # get only the needed cols out of 30+ columns\n",
    "            df = df[['date_local','arithmetic_mean','units_of_measure']]\n",
    "\n",
    "            # agggregate by date so that we have one value per day\n",
    "            df = df.groupby('date_local').mean().reset_index()\n",
    "        return df;\n",
    "def readAndDisplayFileYearRange(c,px,ya,yb):\n",
    "    #print(c,px,ya,yb)\n",
    "    # Create Empty DF\n",
    "    df_ab = pd.DataFrame()\n",
    "    for y in range(ya,yb):\n",
    "        df1 = readAndDisplayFile(c,px,str(y));\n",
    "        df_ab = df_ab.append(df1,ignore_index=True)\n",
    "    return df_ab"
   ]
  },
  {
   "cell_type": "code",
   "execution_count": 5,
   "metadata": {},
   "outputs": [
    {
     "name": "stderr",
     "output_type": "stream",
     "text": [
      "C:\\Users\\ksama_3n8exwu\\Anaconda3\\lib\\site-packages\\scipy\\stats\\_continuous_distns.py:2402: RuntimeWarning: invalid value encountered in add\n",
      "  -pex2+logpex2-logex2)\n"
     ]
    },
    {
     "name": "stdout",
     "output_type": "stream",
     "text": [
      "(-0.5015819929550804, 2.9961353779587996, 1.0017480841258783)\n",
      "(-0.5068603659863826, 2.999161708806385, 1.0305462704015094)\n",
      "(-0.06814331241400648, 10.064278600874225, 4.7022244789603755)\n",
      "(-0.6526722226629056, 3.621057873973146, 3.902134995832234e-30)\n",
      "(-0.05701049848342438, 7.44172970514134, 3.498645405332815)\n"
     ]
    },
    {
     "data": {
      "image/png": "[encoded data removed]",
      "text/plain": [
       "<Figure size 432x288 with 1 Axes>"
      ]
     },
     "metadata": {
      "needs_background": "light"
     },
     "output_type": "display_data"
    }
   ],
   "source": [
    "for p in params_dict.keys():\n",
    "    df_10 = readAndDisplayFileYearRange(county,p,2010,2020)\n",
    "    dataN = df_10['arithmetic_mean'].tolist()\n",
    "    t = np.linspace(1,10,10)\n",
    "    fit = gev.fit(dataN,loc=3)\n",
    "    pdf = gev.pdf(t, *fit)\n",
    "    plt.plot(t, pdf)\n",
    "    #plt.plot(t, dataN, \"o\")\n",
    "    print(fit)"
   ]
  },
  {
   "cell_type": "code",
   "execution_count": 6,
   "metadata": {},
   "outputs": [
    {
     "name": "stdout",
     "output_type": "stream",
     "text": [
      "-0.21315236735575757 0.36195514423654107 0.15611247138349693\n"
     ]
    },
    {
     "data": {
      "text/plain": [
       "[<matplotlib.lines.Line2D at 0x25564c42588>]"
      ]
     },
     "execution_count": 6,
     "metadata": {},
     "output_type": "execute_result"
    },
    {
     "data": {
      "image/png": "[encoded data removed]",
      "text/plain": [
       "<Figure size 432x288 with 1 Axes>"
      ]
     },
     "metadata": {
      "needs_background": "light"
     },
     "output_type": "display_data"
    }
   ],
   "source": [
    "p='42101'\n",
    "df_10 = readAndDisplayFileYearRange(county,p,2010,2020)\n",
    "dataN = df_10['arithmetic_mean'].tolist()\n",
    "t = np.linspace(1,10,100)\n",
    "shape, loc, scale = gev.fit(dataN,loc=0)\n",
    "fit = gev.fit(dataN,loc=0)\n",
    "plt.plot(fit)\n",
    "print(shape, loc, scale)\n",
    "pdf = gev.pdf(t, *fit)\n",
    "plt.plot(t, pdf)"
   ]
  },
  {
   "cell_type": "code",
   "execution_count": 7,
   "metadata": {},
   "outputs": [],
   "source": [
    "df_temp  = pd.read_csv('cp_temperature.csv')"
   ]
  },
  {
   "cell_type": "code",
   "execution_count": 8,
   "metadata": {},
   "outputs": [
    {
     "name": "stderr",
     "output_type": "stream",
     "text": [
      "C:\\Users\\ksama_3n8exwu\\Anaconda3\\lib\\site-packages\\scipy\\stats\\_continuous_distns.py:2402: RuntimeWarning: invalid value encountered in subtract\n",
      "  -pex2+logpex2-logex2)\n"
     ]
    },
    {
     "data": {
      "text/plain": [
       "(0.1587461061590093, 0.001650659012725386, 0.3172971578207583)"
      ]
     },
     "execution_count": 8,
     "metadata": {},
     "output_type": "execute_result"
    }
   ],
   "source": [
    "ann_max = df_temp.TMAX.to_list()\n",
    "gev.fit(ann_max,loc=0)"
   ]
  },
  {
   "cell_type": "code",
   "execution_count": 27,
   "metadata": {},
   "outputs": [],
   "source": [
    "fatigue = [726000,615000,508000,808000,755000,849000,384000,667000,515000,483000]"
   ]
  },
  {
   "cell_type": "code",
   "execution_count": 72,
   "metadata": {},
   "outputs": [],
   "source": [
    "p='42101' # CO\n",
    "p='44201'  # NO\n",
    "df = readAndDisplayFileYearRange(county,p,2001,2020)\n",
    "dataN = df['arithmetic_mean'].tolist()\n",
    "    "
   ]
  },
  {
   "cell_type": "code",
   "execution_count": 95,
   "metadata": {},
   "outputs": [
    {
     "data": {
      "text/plain": [
       "[0.01785566666666667,\n",
       " 0.0256305,\n",
       " 0.03153741666666667,\n",
       " 0.037628,\n",
       " 0.04607366666666666,\n",
       " 0.06179666666666667,\n",
       " 0.052434249999999995,\n",
       " 0.058583249999999996,\n",
       " 0.041731833333333336,\n",
       " 0.036838333333333334,\n",
       " 0.021396750000000003,\n",
       " 0.019041166666666668,\n",
       " 0.020026000000000002,\n",
       " 0.030466416666666673,\n",
       " 0.03607775,\n",
       " 0.037953916666666664,\n",
       " 0.051603333333333334,\n",
       " 0.06735208333333333,\n",
       " 0.07410341666666666,\n",
       " 0.07239924999999998,\n",
       " 0.04933733333333332,\n",
       " 0.03860966666666667,\n",
       " 0.026809250000000003,\n",
       " 0.023829999999999994,\n",
       " 0.0245025,\n",
       " 0.027966500000000002,\n",
       " 0.03713275,\n",
       " 0.045505333333333335,\n",
       " 0.040527333333333325,\n",
       " 0.06410499999999998,\n",
       " 0.047795333333333336,\n",
       " 0.04132883333333333,\n",
       " 0.03392891666666666,\n",
       " 0.027010833333333335,\n",
       " 0.025859916666666666,\n",
       " 0.024546166666666664,\n",
       " 0.0246,\n",
       " 0.027493166666666662,\n",
       " 0.0291675,\n",
       " 0.05057116666666667,\n",
       " 0.049206,\n",
       " 0.04259974999999999,\n",
       " 0.055591333333333326,\n",
       " 0.04575058333333334,\n",
       " 0.03001266666666667,\n",
       " 0.025530916666666667,\n",
       " 0.02437241666666667,\n",
       " 0.021524666666666664,\n",
       " 0.027834083333333332,\n",
       " 0.025173583333333333,\n",
       " 0.0354335,\n",
       " 0.04233108333333333,\n",
       " 0.046405749999999996,\n",
       " 0.05097008333333333,\n",
       " 0.052602083333333334,\n",
       " 0.05437208333333333,\n",
       " 0.044415083333333334,\n",
       " 0.03237933333333332,\n",
       " 0.030106666666666667,\n",
       " 0.021480166666666665,\n",
       " 0.03084275,\n",
       " 0.032575,\n",
       " 0.05020458333333333,\n",
       " 0.04810375,\n",
       " 0.06158500000000002,\n",
       " 0.05846016666666667,\n",
       " 0.054412916666666665,\n",
       " 0.05694258333333333,\n",
       " 0.039793,\n",
       " 0.034983499999999994,\n",
       " 0.027656333333333335,\n",
       " 0.023164083333333335,\n",
       " 0.025377,\n",
       " 0.034863000000000005,\n",
       " 0.03596825,\n",
       " 0.05109658333333333,\n",
       " 0.06178466666666666,\n",
       " 0.06434749999999999,\n",
       " 0.06089799999999999,\n",
       " 0.06317958333333333,\n",
       " 0.04922941666666667,\n",
       " 0.036112083333333336,\n",
       " 0.024907750000000006,\n",
       " 0.02655283333333334,\n",
       " 0.025377,\n",
       " 0.03512916666666666,\n",
       " 0.03793475,\n",
       " 0.04830183333333333,\n",
       " 0.04987633333333333,\n",
       " 0.05461683333333333,\n",
       " 0.05519983333333336,\n",
       " 0.0455245,\n",
       " 0.05020741666666667,\n",
       " 0.026769166666666674,\n",
       " 0.024347999999999998,\n",
       " 0.027218333333333327,\n",
       " 0.02849666666666667,\n",
       " 0.039768666666666674,\n",
       " 0.03855058333333333,\n",
       " 0.04554891666666667,\n",
       " 0.04171025,\n",
       " 0.04660066666666667,\n",
       " 0.046921083333333335,\n",
       " 0.042944916666666666,\n",
       " 0.03739666666666667,\n",
       " 0.03183608333333333,\n",
       " 0.02102608333333333,\n",
       " 0.03278966666666667,\n",
       " 0.0328035,\n",
       " 0.03715891666666666,\n",
       " 0.046294,\n",
       " 0.044360333333333335,\n",
       " 0.050088749999999994,\n",
       " 0.05223775,\n",
       " 0.06271674999999999,\n",
       " 0.06440058333333333,\n",
       " 0.058217333333333336,\n",
       " 0.03422358333333334,\n",
       " 0.028000583333333332,\n",
       " 0.03658208333333334,\n",
       " 0.03002275,\n",
       " 0.042971375000000006,\n",
       " 0.042351875000000004,\n",
       " 0.044915374999999993,\n",
       " 0.053878749999999996,\n",
       " 0.062178875,\n",
       " 0.06199975,\n",
       " 0.052367624999999994,\n",
       " 0.04176399999999999,\n",
       " 0.024471500000000007,\n",
       " 0.037153,\n",
       " 0.02235925,\n",
       " 0.030453749999999995,\n",
       " 0.031654125000000005,\n",
       " 0.039075125,\n",
       " 0.048639375000000006,\n",
       " 0.049471499999999995,\n",
       " 0.06380949999999999,\n",
       " 0.059423874999999994,\n",
       " 0.053409875,\n",
       " 0.0408385,\n",
       " 0.038241375,\n",
       " 0.0286135,\n",
       " 0.029460124999999997,\n",
       " 0.02890925,\n",
       " 0.029319333333333333,\n",
       " 0.0402185,\n",
       " 0.055886,\n",
       " 0.048855666666666665,\n",
       " 0.04725183333333333,\n",
       " 0.045353,\n",
       " 0.043423375,\n",
       " 0.042495625,\n",
       " 0.0350145,\n",
       " 0.029088500000000003,\n",
       " 0.02794541666666667,\n",
       " 0.028838416666666672,\n",
       " 0.037253375,\n",
       " 0.03755733333333333,\n",
       " 0.049231000000000004,\n",
       " 0.0483915,\n",
       " 0.049846249999999995,\n",
       " 0.04804887499999999,\n",
       " 0.0486925,\n",
       " 0.03576075,\n",
       " 0.03268624999999999,\n",
       " 0.030688125,\n",
       " 0.026470375,\n",
       " 0.028776,\n",
       " 0.031719250000000004,\n",
       " 0.039850125,\n",
       " 0.04513537499999999,\n",
       " 0.047459875000000006,\n",
       " 0.05019124999999999,\n",
       " 0.047709249999999995,\n",
       " 0.04755975,\n",
       " 0.05072425,\n",
       " 0.0275905,\n",
       " 0.0331075,\n",
       " 0.023245375000000002,\n",
       " 0.033393375,\n",
       " 0.034651125000000005,\n",
       " 0.041721,\n",
       " 0.04253766666666667,\n",
       " 0.05071633333333333,\n",
       " 0.045732,\n",
       " 0.050515000000000004,\n",
       " 0.04227541666666667,\n",
       " 0.03961183333333334,\n",
       " 0.029100083333333332,\n",
       " 0.031462666666666673,\n",
       " 0.0265025,\n",
       " 0.026096416666666667,\n",
       " 0.034962583333333325,\n",
       " 0.03541916666666666,\n",
       " 0.04633966666666667,\n",
       " 0.04778958333333334,\n",
       " 0.04857883333333333,\n",
       " 0.048837416666666654,\n",
       " 0.03940249999999999,\n",
       " 0.032280416666666666,\n",
       " 0.03169516666666667,\n",
       " 0.024531083333333325,\n",
       " 0.02533275,\n",
       " 0.027310250000000005,\n",
       " 0.02495775,\n",
       " 0.03299333333333334,\n",
       " 0.044160333333333336,\n",
       " 0.04518566666666667,\n",
       " 0.04652708333333334,\n",
       " 0.05022633333333334,\n",
       " 0.0420615,\n",
       " 0.03660683333333334,\n",
       " 0.030215833333333334,\n",
       " 0.02752991666666667,\n",
       " 0.020823083333333332,\n",
       " 0.026935749999999998,\n",
       " 0.03603658333333334,\n",
       " 0.03898591666666667,\n",
       " 0.04609475000000001,\n",
       " 0.045622166666666665,\n",
       " 0.04831633333333334,\n",
       " 0.04874183333333334,\n",
       " 0.04657825000000001,\n",
       " 0.04326516666666667,\n",
       " 0.03594133333333333,\n",
       " 0.02847308333333333,\n",
       " 0.027834]"
      ]
     },
     "execution_count": 95,
     "metadata": {},
     "output_type": "execute_result"
    }
   ],
   "source": [
    "# Find max in each year and use R to find the fit\n",
    "# fit gives, the probability of those maximum values could occur\n",
    "import datetime as dt\n",
    "x = []\n",
    "df['date_local'] = pd.to_datetime(df['date_local'])\n",
    "for y in range(2001,2020):\n",
    "    df_y = df[df['date_local'].dt.year == y]\n",
    "    for m in range(1,13):\n",
    "        x.append(np.max(df_y[df_y['date_local'].dt.month == m].arithmetic_mean.tolist()))\n",
    "x"
   ]
  },
  {
   "cell_type": "code",
   "execution_count": 23,
   "metadata": {},
   "outputs": [
    {
     "data": {
      "text/plain": [
       "1.0000088484940965"
      ]
     },
     "execution_count": 23,
     "metadata": {},
     "output_type": "execute_result"
    }
   ],
   "source": [
    "import math\n",
    "location= 0.03505181  #(mu)\n",
    "scale=0.01056331       #(sigma)\n",
    "shape= -0.14179238    # (epsilon)\n",
    "params = '1.4292595  0.4741425 -0.1274433'\n",
    "(location, scale, shape) = [float(x) for x in params.split()]\n",
    "x=0.06319148936\n",
    "p = 1- math.exp(-(1 + shape * (( x - location )/scale)) ** (-1/shape))\n",
    "p\n",
    "1/p"
   ]
  },
  {
   "cell_type": "code",
   "execution_count": 21,
   "metadata": {},
   "outputs": [],
   "source": [
    "params = '1.4292595  0.4741425 -0.1274433'\n"
   ]
  },
  {
   "cell_type": "code",
   "execution_count": 22,
   "metadata": {},
   "outputs": [
    {
     "data": {
      "text/plain": [
       "1.4292595"
      ]
     },
     "execution_count": 22,
     "metadata": {},
     "output_type": "execute_result"
    }
   ],
   "source": [
    "location"
   ]
  },
  {
   "cell_type": "code",
   "execution_count": null,
   "metadata": {},
   "outputs": [],
   "source": []
  }
 ],
 "metadata": {
  "kernelspec": {
   "display_name": "Python 3",
   "language": "python",
   "name": "python3"
  },
  "language_info": {
   "codemirror_mode": {
    "name": "ipython",
    "version": 3
   },
   "file_extension": ".py",
   "mimetype": "text/x-python",
   "name": "python",
   "nbconvert_exporter": "python",
   "pygments_lexer": "ipython3",
   "version": "3.7.4"
  }
 },
 "nbformat": 4,
 "nbformat_minor": 2
}
