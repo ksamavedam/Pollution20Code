{
 "cells": [
  {
   "cell_type": "code",
   "execution_count": 1,
   "metadata": {},
   "outputs": [],
   "source": [
    "import json\n",
    "import urllib \n",
    "import seaborn as sns\n",
    "import numpy as np\n",
    "import matplotlib.pyplot as plt\n",
    "from scipy.stats import genextreme as gev\n",
    "import scipy.stats as stats\n",
    "import pandas as pd\n",
    "import datetime"
   ]
  },
  {
   "cell_type": "code",
   "execution_count": 2,
   "metadata": {},
   "outputs": [],
   "source": [
    "county='WashDC'\n",
    "#county='Baltimore_'"
   ]
  },
  {
   "cell_type": "code",
   "execution_count": 4,
   "metadata": {},
   "outputs": [],
   "source": [
    "# Hard Code params with proper names\n",
    "# at the\n",
    "params_dict = {'42101': 'CarbonMonoxide', \n",
    "               '42401': 'SulfurDioxide', \n",
    "               '42602': 'NitrogenDioxide', \n",
    "               '44201': 'Ozone', \n",
    "               '88101': 'PM2.5LocalConditions'}\n",
    "params_units = {'42101': 'Parts per million', \n",
    "                '42401': 'Parts per billion', \n",
    "                '42602': 'Parts per billion', \n",
    "                '44201': 'Parts per million', \n",
    "                '88101': 'Micrograms/cubic meter (LC)'}\n",
    "\n",
    "def readAndDisplayFile(c,p,y):\n",
    "    f_name = '../Anjali/data/'+c+p+'_'+y+'.json'\n",
    "    #print(f_name)\n",
    "    with open(f_name) as json_file:\n",
    "        data = json.load(json_file)\n",
    "        #print(data)\n",
    "        df = pd.DataFrame.from_dict(data['Data'])\n",
    "        #print(df.columns)\n",
    "        if (df.size != 0) :\n",
    "            # get only the needed cols out of 30+ columns\n",
    "            df = df[['date_local','arithmetic_mean','units_of_measure']]\n",
    "\n",
    "            # agggregate by date so that we have one value per day\n",
    "            df = df.groupby('date_local').mean().reset_index()\n",
    "        return df;\n",
    "\n",
    "def readAndDisplayFileYearRange(c,px,ya,yb):\n",
    "    #print(c,px,ya,yb)\n",
    "    # Create Empty DF\n",
    "    df_ab = pd.DataFrame()\n",
    "    for y in range(ya,yb):\n",
    "        df1 = readAndDisplayFile(c,px,str(y));\n",
    "        df_ab = df_ab.append(df1,ignore_index=True)\n",
    "    return df_ab"
   ]
  },
  {
   "cell_type": "code",
   "execution_count": 11,
   "metadata": {},
   "outputs": [],
   "source": [
    "p='42101'\n",
    "df = readAndDisplayFileYearRange(county,p,2001,2020)\n",
    "df['date_local'] = pd.to_datetime(df['date_local'])\n",
    "df.columns = ['date_local', params_dict[p]]\n",
    "pn=params_dict[p]\n"
   ]
  },
  {
   "cell_type": "code",
   "execution_count": 31,
   "metadata": {},
   "outputs": [
    {
     "name": "stdout",
     "output_type": "stream",
     "text": [
      "2001 19\n",
      "2002 20\n",
      "2003 15\n",
      "2004 4\n",
      "2005 3\n",
      "2006 8\n",
      "2007 2\n",
      "2008 14\n",
      "2009 22\n",
      "2010 9\n",
      "2011 0\n",
      "2012 0\n",
      "2013 0\n",
      "2014 0\n",
      "2015 0\n",
      "2016 0\n",
      "2017 0\n",
      "2018 0\n",
      "2019 0\n"
     ]
    }
   ],
   "source": [
    "p = 'CarbonMonoxide'\n",
    "for y in range(2001,2020):\n",
    "    df_y = df[(df['date_local'].dt.year == y) & (df[p] > 1.6)]\n",
    "    print(y,df_y.count()[0])"
   ]
  },
  {
   "cell_type": "code",
   "execution_count": null,
   "metadata": {},
   "outputs": [],
   "source": []
  }
 ],
 "metadata": {
  "kernelspec": {
   "display_name": "Python 3",
   "language": "python",
   "name": "python3"
  },
  "language_info": {
   "codemirror_mode": {
    "name": "ipython",
    "version": 3
   },
   "file_extension": ".py",
   "mimetype": "text/x-python",
   "name": "python",
   "nbconvert_exporter": "python",
   "pygments_lexer": "ipython3",
   "version": "3.7.4"
  }
 },
 "nbformat": 4,
 "nbformat_minor": 2
}
