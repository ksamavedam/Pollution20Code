{
 "cells": [
  {
   "cell_type": "code",
   "execution_count": 3,
   "metadata": {},
   "outputs": [],
   "source": [
    "import json\n",
    "import urllib \n",
    "import seaborn as sns\n",
    "import numpy as np\n",
    "import matplotlib.pyplot as plt\n",
    "import pandas as pd"
   ]
  },
  {
   "cell_type": "code",
   "execution_count": 43,
   "metadata": {
    "scrolled": true
   },
   "outputs": [
    {
     "data": {
      "text/plain": [
       "{'Header': [{'status': 'Success',\n",
       "   'request_time': '2020-02-02T13:15:30-05:00',\n",
       "   'url': 'https://aqs.epa.gov/data/api/list/parametersByClass?email=samavedamanjali@gmail.com&key=russetcrane95&pc=CRITERIA',\n",
       "   'rows': 8}],\n",
       " 'Data': [{'code': '14129', 'value_represented': 'Lead (TSP) LC'},\n",
       "  {'code': '42101', 'value_represented': 'Carbon monoxide'},\n",
       "  {'code': '42401', 'value_represented': 'Sulfur dioxide'},\n",
       "  {'code': '42602', 'value_represented': 'Nitrogen dioxide (NO2)'},\n",
       "  {'code': '44201', 'value_represented': 'Ozone'},\n",
       "  {'code': '81102', 'value_represented': 'PM10 Total 0-10um STP'},\n",
       "  {'code': '85129', 'value_represented': 'Lead PM10 LC FRM/FEM'},\n",
       "  {'code': '88101', 'value_represented': 'PM2.5 - Local Conditions'}]}"
      ]
     },
     "execution_count": 43,
     "metadata": {},
     "output_type": "execute_result"
    }
   ],
   "source": [
    "params = {}\n",
    "url='https://aqs.epa.gov/data/api/list/parametersByClass?email=samavedamanjali@gmail.com&key=russetcrane95&pc=CRITERIA'\n",
    "with urllib.request.urlopen(url) as urlhandle:\n",
    "    params = json.loads(urlhandle.read().decode())\n",
    "params"
   ]
  },
  {
   "cell_type": "code",
   "execution_count": 5,
   "metadata": {},
   "outputs": [
    {
     "name": "stdout",
     "output_type": "stream",
     "text": [
      "{'42101': 'Carbon monoxide', '42401': 'Sulfur dioxide', '42602': 'Nitrogen dioxide (NO2)', '44201': 'Ozone', '81102': 'PM10 Total 0-10um STP', '85129': 'Lead PM10 LC FRM/FEM', '88101': 'PM2.5 - Local Conditions'}\n"
     ]
    }
   ],
   "source": [
    "params_dict = {}\n",
    "\n",
    "for i in params['Data']:\n",
    "    #print (i['code'], i['value_represented'])\n",
    "    params_dict[i['code']] = i['value_represented']\n",
    "del params_dict['14129']  # Some issue with data for this; ignore for now\n",
    "print (params_dict)"
   ]
  },
  {
   "cell_type": "code",
   "execution_count": 44,
   "metadata": {},
   "outputs": [],
   "source": [
    "# PM2.5\n",
    "def get_param_data(p,y):\n",
    "    url='https://aqs.epa.gov/data/api/dailyData/byCounty?email=samavedamanjali@gmail.com&key=russetcrane95&param=' + p + '&bdate=' + y + '0101&edate=' + y + '1231&state=24&county=005'\n",
    "    #print(url)\n",
    "    with urllib.request.urlopen(url) as urlhandle:\n",
    "        data = json.loads(urlhandle.read().decode())\n",
    "        #print(json.dumps(data))\n",
    "    df = pd.DataFrame.from_dict(data['Data'])\n",
    "    return df\n",
    "    #dfc.groupby('date_local').mean().plot(figsize=(15,5))"
   ]
  },
  {
   "cell_type": "code",
   "execution_count": 8,
   "metadata": {},
   "outputs": [
    {
     "name": "stdout",
     "output_type": "stream",
     "text": [
      "Processing  42101 Carbon monoxide\n",
      "Processing  42401 Sulfur dioxide\n",
      "Processing  42602 Nitrogen dioxide (NO2)\n",
      "Processing  44201 Ozone\n",
      "Processing  81102 PM10 Total 0-10um STP\n",
      "Processing  85129 Lead PM10 LC FRM/FEM\n",
      "Processing  88101 PM2.5 - Local Conditions\n"
     ]
    }
   ],
   "source": [
    "data_all = {}\n",
    "for k in params_dict.keys() :\n",
    "    print('Processing ', k, params_dict[k])\n",
    "    data_all[k] = get_param_data(k,'2010')"
   ]
  },
  {
   "cell_type": "code",
   "execution_count": 9,
   "metadata": {
    "scrolled": false
   },
   "outputs": [
    {
     "name": "stdout",
     "output_type": "stream",
     "text": [
      "42101 21607\n",
      "42401 49135\n",
      "42602 21886\n",
      "44201 70525\n",
      "81102 0\n",
      "85129 0\n",
      "88101 32240\n"
     ]
    }
   ],
   "source": [
    "# for checking the data\n",
    "for p in data_all.keys():\n",
    "    print(p, data_all[p].size )"
   ]
  },
  {
   "cell_type": "code",
   "execution_count": 40,
   "metadata": {},
   "outputs": [],
   "source": [
    "def testPlots():\n",
    "    for p in data_all.keys():\n",
    "        if (data_all[p].size != 0):\n",
    "            df = data_all[p][['date_local','arithmetic_mean']]\n",
    "            df.groupby('date_local').mean().plot(figsize=(15,5))\n",
    "            #print(df.shape, p, params_dict[p])"
   ]
  },
  {
   "cell_type": "code",
   "execution_count": null,
   "metadata": {},
   "outputs": [],
   "source": [
    "def polYrShape():\n",
    "    for p in data_all.keys():\n",
    "    get_param_data()  "
   ]
  }
 ],
 "metadata": {
  "kernelspec": {
   "display_name": "Python 3",
   "language": "python",
   "name": "python3"
  },
  "language_info": {
   "codemirror_mode": {
    "name": "ipython",
    "version": 3
   },
   "file_extension": ".py",
   "mimetype": "text/x-python",
   "name": "python",
   "nbconvert_exporter": "python",
   "pygments_lexer": "ipython3",
   "version": "3.7.4"
  }
 },
 "nbformat": 4,
 "nbformat_minor": 2
}
