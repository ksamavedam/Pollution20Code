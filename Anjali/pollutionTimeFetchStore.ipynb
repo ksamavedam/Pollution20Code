{
 "cells": [
  {
   "cell_type": "code",
   "execution_count": 1,
   "metadata": {},
   "outputs": [],
   "source": [
    "import json\n",
    "import urllib \n",
    "import seaborn as sns\n",
    "import numpy as np\n",
    "import matplotlib.pyplot as plt\n",
    "import pandas as pd"
   ]
  },
  {
   "cell_type": "code",
   "execution_count": 2,
   "metadata": {},
   "outputs": [
    {
     "name": "stdout",
     "output_type": "stream",
     "text": [
      "{'42101': 'Carbon monoxide', '42401': 'Sulfur dioxide', '42602': 'Nitrogen dioxide (NO2)', '44201': 'Ozone', '88101': 'PM2.5 - Local Conditions'}\n"
     ]
    }
   ],
   "source": [
    "params = {}\n",
    "url='https://aqs.epa.gov/data/api/list/parametersByClass?email=samavedamanjali@gmail.com&key=russetcrane95&pc=CRITERIA'\n",
    "with urllib.request.urlopen(url) as urlhandle:\n",
    "    params = json.loads(urlhandle.read().decode())\n",
    "\n",
    "params_dict = {}\n",
    "for i in params['Data']:\n",
    "    #print (i['code'], i['value_represented'])\n",
    "    params_dict[i['code']] = i['value_represented']\n",
    "del params_dict['14129']  # Some issue with data for this; ignore for now\\\n",
    "del params_dict['81102']\n",
    "del params_dict['85129']\n",
    "print (params_dict)"
   ]
  },
  {
   "cell_type": "code",
   "execution_count": 3,
   "metadata": {},
   "outputs": [],
   "source": [
    "def get_param_data(p,y):\n",
    "    url='https://aqs.epa.gov/data/api/dailyData/byCounty?email=samavedamanjali@gmail.com&key=russetcrane95&param=' + p + '&bdate=' + y + '0101&edate=' + y + '1231&state=24&county=005'    \n",
    "    with urllib.request.urlopen(url) as urlhandle:\n",
    "        data = json.loads(urlhandle.read().decode())\n",
    "        #print(json.dumps(data))\n",
    "    df = pd.DataFrame.from_dict(data['Data'])\n",
    "    return df\n",
    "    #dfc.groupby('date_local').mean().plot(figsize=(15,5))"
   ]
  },
  {
   "cell_type": "code",
   "execution_count": 6,
   "metadata": {},
   "outputs": [],
   "source": [
    "def get_param_data_to_file(p,y):\n",
    "    url='https://aqs.epa.gov/data/api/dailyData/byCounty?email=samavedamanjali@gmail.com&key=russetcrane95&param=' + p + '&bdate=' + y + '0101&edate=' + y + '1231&state=24&county=005'    \n",
    "    with urllib.request.urlopen(url) as urlhandle:\n",
    "        data = json.loads(urlhandle.read().decode())\n",
    "        f_name='data/'+'Baltimore_' + p + '_' + y + '.json'\n",
    "        with open(f_name, 'w') as fp:\n",
    "            json.dump(data, fp)\n"
   ]
  },
  {
   "cell_type": "code",
   "execution_count": 8,
   "metadata": {},
   "outputs": [
    {
     "name": "stdout",
     "output_type": "stream",
     "text": [
      "processing 42101 2012\n"
     ]
    },
    {
     "ename": "AttributeError",
     "evalue": "'NoneType' object has no attribute 'size'",
     "output_type": "error",
     "traceback": [
      "\u001b[1;31m---------------------------------------------------------------------------\u001b[0m",
      "\u001b[1;31mAttributeError\u001b[0m                            Traceback (most recent call last)",
      "\u001b[1;32m<ipython-input-8-721de3675d5e>\u001b[0m in \u001b[0;36m<module>\u001b[1;34m\u001b[0m\n\u001b[0;32m     14\u001b[0m         \u001b[0mdata_all\u001b[0m\u001b[1;33m[\u001b[0m\u001b[0mp\u001b[0m\u001b[1;33m]\u001b[0m \u001b[1;33m=\u001b[0m \u001b[0mdata_per_p\u001b[0m\u001b[1;33m\u001b[0m\u001b[1;33m\u001b[0m\u001b[0m\n\u001b[0;32m     15\u001b[0m \u001b[1;33m\u001b[0m\u001b[0m\n\u001b[1;32m---> 16\u001b[1;33m \u001b[0mbroo\u001b[0m\u001b[1;33m(\u001b[0m\u001b[1;33m)\u001b[0m\u001b[1;33m\u001b[0m\u001b[1;33m\u001b[0m\u001b[0m\n\u001b[0m",
      "\u001b[1;32m<ipython-input-8-721de3675d5e>\u001b[0m in \u001b[0;36mbroo\u001b[1;34m()\u001b[0m\n\u001b[0;32m      7\u001b[0m             \u001b[0my\u001b[0m \u001b[1;33m=\u001b[0m \u001b[0mstr\u001b[0m\u001b[1;33m(\u001b[0m\u001b[0my\u001b[0m\u001b[1;33m)\u001b[0m\u001b[1;33m\u001b[0m\u001b[1;33m\u001b[0m\u001b[0m\n\u001b[0;32m      8\u001b[0m             \u001b[0mdf\u001b[0m \u001b[1;33m=\u001b[0m \u001b[0mget_param_data_to_file\u001b[0m\u001b[1;33m(\u001b[0m\u001b[0mp\u001b[0m\u001b[1;33m,\u001b[0m \u001b[0my\u001b[0m\u001b[1;33m)\u001b[0m\u001b[1;33m\u001b[0m\u001b[1;33m\u001b[0m\u001b[0m\n\u001b[1;32m----> 9\u001b[1;33m             \u001b[1;32mif\u001b[0m \u001b[1;33m(\u001b[0m\u001b[0mdf\u001b[0m\u001b[1;33m.\u001b[0m\u001b[0msize\u001b[0m \u001b[1;33m!=\u001b[0m \u001b[1;36m0\u001b[0m\u001b[1;33m)\u001b[0m \u001b[1;33m:\u001b[0m\u001b[1;33m\u001b[0m\u001b[1;33m\u001b[0m\u001b[0m\n\u001b[0m\u001b[0;32m     10\u001b[0m                 \u001b[0mdf\u001b[0m \u001b[1;33m=\u001b[0m \u001b[0mdf\u001b[0m\u001b[1;33m[\u001b[0m\u001b[1;33m[\u001b[0m\u001b[1;34m'date_local'\u001b[0m\u001b[1;33m,\u001b[0m\u001b[1;34m'arithmetic_mean'\u001b[0m\u001b[1;33m]\u001b[0m\u001b[1;33m]\u001b[0m\u001b[1;33m\u001b[0m\u001b[1;33m\u001b[0m\u001b[0m\n\u001b[0;32m     11\u001b[0m                 \u001b[0mdata_per_p\u001b[0m\u001b[1;33m[\u001b[0m\u001b[0my\u001b[0m\u001b[1;33m]\u001b[0m \u001b[1;33m=\u001b[0m \u001b[0mdf\u001b[0m\u001b[1;33m\u001b[0m\u001b[1;33m\u001b[0m\u001b[0m\n",
      "\u001b[1;31mAttributeError\u001b[0m: 'NoneType' object has no attribute 'size'"
     ]
    }
   ],
   "source": [
    "data_all = {}\n",
    "def broo():\n",
    "    for p in params_dict.keys():\n",
    "        data_per_p = {}\n",
    "        for y in range(2012, 2020):\n",
    "            print('processing', p , y)\n",
    "            y = str(y)\n",
    "            df = get_param_data(p, y)\n",
    "            if (df.size != 0) :\n",
    "                df = df[['date_local','arithmetic_mean']]\n",
    "                data_per_p[y] = df\n",
    "            else:\n",
    "                print('\\tno data for', p, y)\n",
    "        data_all[p] = data_per_p\n",
    "    \n",
    "broo()"
   ]
  },
  {
   "cell_type": "code",
   "execution_count": 9,
   "metadata": {},
   "outputs": [
    {
     "name": "stdout",
     "output_type": "stream",
     "text": [
      "processing 42101 2012\n",
      "processing 42101 2013\n",
      "processing 42101 2014\n",
      "processing 42101 2015\n",
      "processing 42101 2016\n",
      "processing 42101 2017\n",
      "processing 42101 2018\n",
      "processing 42101 2019\n",
      "processing 42401 2012\n",
      "processing 42401 2013\n",
      "processing 42401 2014\n",
      "processing 42401 2015\n",
      "processing 42401 2016\n",
      "processing 42401 2017\n",
      "processing 42401 2018\n",
      "processing 42401 2019\n",
      "processing 42602 2012\n",
      "processing 42602 2013\n",
      "processing 42602 2014\n",
      "processing 42602 2015\n",
      "processing 42602 2016\n",
      "processing 42602 2017\n",
      "processing 42602 2018\n",
      "processing 42602 2019\n",
      "processing 44201 2012\n",
      "processing 44201 2013\n",
      "processing 44201 2014\n",
      "processing 44201 2015\n",
      "processing 44201 2016\n",
      "processing 44201 2017\n",
      "processing 44201 2018\n",
      "processing 44201 2019\n",
      "processing 88101 2012\n",
      "processing 88101 2013\n",
      "processing 88101 2014\n",
      "processing 88101 2015\n",
      "processing 88101 2016\n",
      "processing 88101 2017\n",
      "processing 88101 2018\n",
      "processing 88101 2019\n"
     ]
    }
   ],
   "source": [
    "data_all = {}\n",
    "def get_data_for_years():\n",
    "    for p in params_dict.keys():\n",
    "        data_per_p = {}\n",
    "        for y in range(2012, 2020):\n",
    "            print('processing', p , y)\n",
    "            y = str(y)\n",
    "            get_param_data_to_file(p, y)\n",
    "\n",
    "    \n",
    "get_data_for_years()"
   ]
  },
  {
   "cell_type": "code",
   "execution_count": null,
   "metadata": {},
   "outputs": [],
   "source": []
  }
 ],
 "metadata": {
  "kernelspec": {
   "display_name": "Python 3",
   "language": "python",
   "name": "python3"
  },
  "language_info": {
   "codemirror_mode": {
    "name": "ipython",
    "version": 3
   },
   "file_extension": ".py",
   "mimetype": "text/x-python",
   "name": "python",
   "nbconvert_exporter": "python",
   "pygments_lexer": "ipython3",
   "version": "3.7.4"
  }
 },
 "nbformat": 4,
 "nbformat_minor": 2
}
