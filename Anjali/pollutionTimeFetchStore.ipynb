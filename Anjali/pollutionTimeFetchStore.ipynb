{
 "cells": [
  {
   "cell_type": "code",
   "execution_count": 1,
   "metadata": {},
   "outputs": [],
   "source": [
    "import json\n",
    "import urllib \n",
    "import seaborn as sns\n",
    "import numpy as np\n",
    "import matplotlib.pyplot as plt\n",
    "import pandas as pd"
   ]
  },
  {
   "cell_type": "code",
   "execution_count": 2,
   "metadata": {},
   "outputs": [
    {
     "name": "stdout",
     "output_type": "stream",
     "text": [
      "{'42101': 'Carbon monoxide', '42401': 'Sulfur dioxide', '42602': 'Nitrogen dioxide (NO2)', '44201': 'Ozone', '88101': 'PM2.5 - Local Conditions'}\n"
     ]
    }
   ],
   "source": [
    "params = {}\n",
    "url='https://aqs.epa.gov/data/api/list/parametersByClass?email=samavedamanjali@gmail.com&key=russetcrane95&pc=CRITERIA'\n",
    "with urllib.request.urlopen(url) as urlhandle:\n",
    "    params = json.loads(urlhandle.read().decode())\n",
    "\n",
    "params_dict = {}\n",
    "for i in params['Data']:\n",
    "    #print (i['code'], i['value_represented'])\n",
    "    params_dict[i['code']] = i['value_represented']\n",
    "del params_dict['14129']  # Some issue with data for this; ignore for now\\\n",
    "del params_dict['81102']\n",
    "del params_dict['85129']\n",
    "print (params_dict)"
   ]
  },
  {
   "cell_type": "code",
   "execution_count": 3,
   "metadata": {},
   "outputs": [],
   "source": [
    "def get_param_data(p,y):\n",
    "    url='https://aqs.epa.gov/data/api/dailyData/byCounty?email=samavedamanjali@gmail.com&key=russetcrane95&param=' + p + '&bdate=' + y + '0101&edate=' + y + '1231&state=24&county=005'    \n",
    "    with urllib.request.urlopen(url) as urlhandle:\n",
    "        data = json.loads(urlhandle.read().decode())\n",
    "        #print(json.dumps(data))\n",
    "    df = pd.DataFrame.from_dict(data['Data'])\n",
    "    return df\n",
    "    #dfc.groupby('date_local').mean().plot(figsize=(15,5))"
   ]
  },
  {
   "cell_type": "code",
   "execution_count": 4,
   "metadata": {},
   "outputs": [],
   "source": [
    "def get_param_data_to_file(p,y):\n",
    "    url='https://aqs.epa.gov/data/api/dailyData/byCounty?email=samavedamanjali@gmail.com&key=russetcrane95&param=' + p + '&bdate=' + y + '0101&edate=' + y + '1231&state=24&county=005'    \n",
    "    with urllib.request.urlopen(url) as urlhandle:\n",
    "        data = json.loads(urlhandle.read().decode())\n",
    "        f_name='Baltimore_' + p + '_' + y + '.json'\n",
    "        with open(f_name, 'w') as fp:\n",
    "            json.dump(data, fp)"
   ]
  },
  {
   "cell_type": "code",
   "execution_count": 5,
   "metadata": {},
   "outputs": [
    {
     "name": "stdout",
     "output_type": "stream",
     "text": [
      "processing 42101 2012\n",
      "processing 42101 2013\n",
      "processing 42101 2014\n",
      "processing 42101 2015\n",
      "processing 42101 2016\n",
      "processing 42101 2017\n",
      "processing 42101 2018\n",
      "processing 42101 2019\n",
      "processing 42401 2012\n",
      "processing 42401 2013\n",
      "processing 42401 2014\n",
      "processing 42401 2015\n",
      "processing 42401 2016\n",
      "processing 42401 2017\n",
      "processing 42401 2018\n",
      "processing 42401 2019\n",
      "processing 42602 2012\n",
      "processing 42602 2013\n",
      "processing 42602 2014\n",
      "processing 42602 2015\n",
      "processing 42602 2016\n",
      "processing 42602 2017\n",
      "processing 42602 2018\n",
      "processing 42602 2019\n",
      "processing 44201 2012\n",
      "processing 44201 2013\n",
      "processing 44201 2014\n",
      "processing 44201 2015\n",
      "processing 44201 2016\n",
      "processing 44201 2017\n",
      "processing 44201 2018\n",
      "processing 44201 2019\n",
      "processing 88101 2012\n",
      "processing 88101 2013\n",
      "processing 88101 2014\n",
      "processing 88101 2015\n",
      "processing 88101 2016\n",
      "processing 88101 2017\n",
      "processing 88101 2018\n",
      "processing 88101 2019\n"
     ]
    }
   ],
   "source": [
    "data_all = {}\n",
    "def broo():\n",
    "    for p in params_dict.keys():\n",
    "        data_per_p = {}\n",
    "        for y in range(2012, 2020):\n",
    "            print('processing', p , y)\n",
    "            y = str(y)\n",
    "            df = get_param_data(p, y)\n",
    "            if (df.size != 0) :\n",
    "                df = df[['date_local','arithmetic_mean']]\n",
    "                data_per_p[y] = df\n",
    "            else:\n",
    "                print('\\tno data for', p, y)\n",
    "        data_all[p] = data_per_p\n",
    "    \n",
    "broo()"
   ]
  },
  {
   "cell_type": "code",
   "execution_count": null,
   "metadata": {},
   "outputs": [],
   "source": []
  }
 ],
 "metadata": {
  "kernelspec": {
   "display_name": "Python 3",
   "language": "python",
   "name": "python3"
  },
  "language_info": {
   "codemirror_mode": {
    "name": "ipython",
    "version": 3
   },
   "file_extension": ".py",
   "mimetype": "text/x-python",
   "name": "python",
   "nbconvert_exporter": "python",
   "pygments_lexer": "ipython3",
   "version": "3.7.4"
  }
 },
 "nbformat": 4,
 "nbformat_minor": 2
}
