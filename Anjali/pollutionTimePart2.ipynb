{
 "cells": [
  {
   "cell_type": "code",
   "execution_count": 117,
   "metadata": {},
   "outputs": [],
   "source": [
    "import json\n",
    "import urllib \n",
    "import seaborn as sns\n",
    "import numpy as np\n",
    "import matplotlib.pyplot as plt\n",
    "import pandas as pd\n"
   ]
  },
  {
   "cell_type": "code",
   "execution_count": 95,
   "metadata": {},
   "outputs": [
    {
     "name": "stdout",
     "output_type": "stream",
     "text": [
      "{'42101': 'Carbon monoxide', '42401': 'Sulfur dioxide', '42602': 'Nitrogen dioxide (NO2)', '44201': 'Ozone', '81102': 'PM10 Total 0-10um STP', '85129': 'Lead PM10 LC FRM/FEM', '88101': 'PM2.5 - Local Conditions'}\n"
     ]
    }
   ],
   "source": [
    "params = {}\n",
    "url='https://aqs.epa.gov/data/api/list/parametersByClass?email=samavedamanjali@gmail.com&key=russetcrane95&pc=CRITERIA'\n",
    "with urllib.request.urlopen(url) as urlhandle:\n",
    "    params = json.loads(urlhandle.read().decode())\n",
    "\n",
    "params_dict = {}\n",
    "for i in params['Data']:\n",
    "    #print (i['code'], i['value_represented'])\n",
    "    params_dict[i['code']] = i['value_represented']\n",
    "del params_dict['14129']  # Some issue with data for this; ignore for now\n",
    "print (params_dict)"
   ]
  },
  {
   "cell_type": "code",
   "execution_count": 107,
   "metadata": {},
   "outputs": [],
   "source": [
    "# PM2.5\n",
    "def get_param_data(p,y):\n",
    "    url='https://aqs.epa.gov/data/api/dailyData/byCounty?email=samavedamanjali@gmail.com&key=russetcrane95&param=' + p + '&bdate=' + y + '0101&edate=' + y + '1231&state=24&county=005'    \n",
    "    with urllib.request.urlopen(url) as urlhandle:\n",
    "        data = json.loads(urlhandle.read().decode())\n",
    "        #print(json.dumps(data))\n",
    "    df = pd.DataFrame.from_dict(data['Data'])\n",
    "    return df\n",
    "    #dfc.groupby('date_local').mean().plot(figsize=(15,5))"
   ]
  },
  {
   "cell_type": "code",
   "execution_count": 103,
   "metadata": {},
   "outputs": [],
   "source": [
    "def foo():\n",
    "    for p in ['42401']:\n",
    "        for x in ['2010','2011','2012']:\n",
    "            df = get_param_data(p,x)\n",
    "            #df = data[p][['date_local','arithmetic_mean']]\n",
    "            df.groupby('date_local').mean().plot(figsize=(15,5))\n",
    "            #print(p, df.shape)\n"
   ]
  },
  {
   "cell_type": "code",
   "execution_count": 104,
   "metadata": {},
   "outputs": [],
   "source": [
    "def what():\n",
    "    for i in params['Data']:\n",
    "        p=(i['code'])\n",
    "        for x in ['2010','2011','2012', '2013']:\n",
    "            df = get_param_data(p,x)\n",
    "            #df = data[p][['date_local','arithmetic_mean']]\n",
    "            df.groupby('date_local').mean().plot(figsize=(15,5))\n",
    "            #print(p, df.shape)        \n",
    "        \n",
    "        \n",
    "      "
   ]
  },
  {
   "cell_type": "code",
   "execution_count": 126,
   "metadata": {},
   "outputs": [],
   "source": [
    "# PM2.5\n",
    "def get_param_data_to_file(p,y):\n",
    "    url='https://aqs.epa.gov/data/api/dailyData/byCounty?email=samavedamanjali@gmail.com&key=russetcrane95&param=' + p + '&bdate=' + y + '0101&edate=' + y + '1231&state=24&county=005'    \n",
    "    with urllib.request.urlopen(url) as urlhandle:\n",
    "        data = json.loads(urlhandle.read().decode())\n",
    "        f_name='Baltimore_' + p + '_' + y + '.json'\n",
    "        with open(f_name, 'w') as fp:\n",
    "            json.dump(data, fp)\n",
    "   "
   ]
  },
  {
   "cell_type": "code",
   "execution_count": 127,
   "metadata": {},
   "outputs": [
    {
     "name": "stdout",
     "output_type": "stream",
     "text": [
      "processing 42101 2010\n",
      "processing 42101 2011\n",
      "processing 42401 2010\n",
      "processing 42401 2011\n",
      "processing 42602 2010\n",
      "processing 42602 2011\n",
      "processing 44201 2010\n",
      "processing 44201 2011\n",
      "processing 81102 2010\n",
      "\tno data for 81102 2010\n",
      "processing 81102 2011\n",
      "\tno data for 81102 2011\n",
      "processing 85129 2010\n",
      "\tno data for 85129 2010\n",
      "processing 85129 2011\n",
      "\tno data for 85129 2011\n",
      "processing 88101 2010\n",
      "processing 88101 2011\n"
     ]
    }
   ],
   "source": [
    "data_all = {}\n",
    "def broo():\n",
    "    for p in params_dict.keys():\n",
    "        data_per_p = {}\n",
    "        for y in range(2010, 2012):\n",
    "            print('processing', p , y)\n",
    "            y = str(y)\n",
    "            df = get_param_data(p, y)\n",
    "            if (df.size != 0) :\n",
    "                df = df[['date_local','arithmetic_mean']]\n",
    "                data_per_p[y] = df\n",
    "            else:\n",
    "                print('\\tno data for', p, y)\n",
    "        data_all[p] = data_per_p\n",
    "    \n",
    "broo()"
   ]
  },
  {
   "cell_type": "code",
   "execution_count": 128,
   "metadata": {
    "scrolled": true
   },
   "outputs": [
    {
     "name": "stdout",
     "output_type": "stream",
     "text": [
      "processing 42101 2010\n",
      "processing 42101 2011\n",
      "processing 42401 2010\n",
      "processing 42401 2011\n",
      "processing 42602 2010\n",
      "processing 42602 2011\n",
      "processing 44201 2010\n",
      "processing 44201 2011\n",
      "processing 81102 2010\n",
      "processing 81102 2011\n",
      "processing 85129 2010\n",
      "processing 85129 2011\n",
      "processing 88101 2010\n",
      "processing 88101 2011\n"
     ]
    }
   ],
   "source": [
    "def savePerParamData():\n",
    "    for p in params_dict.keys():\n",
    "        data_per_p = {}\n",
    "        for y in range(2010, 2012):\n",
    "            print('processing', p , y)\n",
    "            y = str(y)\n",
    "            get_param_data_to_file(p, y)\n",
    "            \n",
    "savePerParamData()"
   ]
  },
  {
   "cell_type": "code",
   "execution_count": 144,
   "metadata": {},
   "outputs": [],
   "source": [
    "def readAndDisplayFile(c,p,y):\n",
    "    f_name = c+'_'+p+'_'+y+'.json'\n",
    "    with open(f_name) as json_file:\n",
    "        data = json.load(json_file)\n",
    "        #print(data)\n",
    "        for p in data.keys():\n",
    "            df = pd.DataFrame.from_dict(data['Data'])\n",
    "            \n",
    "            if (df.size != 0) :\n",
    "                df = df[['date_local','arithmetic_mean']]\n",
    "            return df;\n",
    "    \n",
    "df = readAndDisplayFile('Baltimore','42602','2011');"
   ]
  },
  {
   "cell_type": "code",
   "execution_count": 145,
   "metadata": {},
   "outputs": [
    {
     "data": {
      "text/html": [
       "<div>\n",
       "<style scoped>\n",
       "    .dataframe tbody tr th:only-of-type {\n",
       "        vertical-align: middle;\n",
       "    }\n",
       "\n",
       "    .dataframe tbody tr th {\n",
       "        vertical-align: top;\n",
       "    }\n",
       "\n",
       "    .dataframe thead th {\n",
       "        text-align: right;\n",
       "    }\n",
       "</style>\n",
       "<table border=\"1\" class=\"dataframe\">\n",
       "  <thead>\n",
       "    <tr style=\"text-align: right;\">\n",
       "      <th></th>\n",
       "      <th>date_local</th>\n",
       "      <th>arithmetic_mean</th>\n",
       "    </tr>\n",
       "  </thead>\n",
       "  <tbody>\n",
       "    <tr>\n",
       "      <td>0</td>\n",
       "      <td>2011-12-31</td>\n",
       "      <td>17.083333</td>\n",
       "    </tr>\n",
       "    <tr>\n",
       "      <td>1</td>\n",
       "      <td>2011-12-31</td>\n",
       "      <td>17.083333</td>\n",
       "    </tr>\n",
       "    <tr>\n",
       "      <td>2</td>\n",
       "      <td>2011-12-30</td>\n",
       "      <td>20.875000</td>\n",
       "    </tr>\n",
       "    <tr>\n",
       "      <td>3</td>\n",
       "      <td>2011-12-30</td>\n",
       "      <td>20.875000</td>\n",
       "    </tr>\n",
       "    <tr>\n",
       "      <td>4</td>\n",
       "      <td>2011-12-29</td>\n",
       "      <td>21.208333</td>\n",
       "    </tr>\n",
       "    <tr>\n",
       "      <td>...</td>\n",
       "      <td>...</td>\n",
       "      <td>...</td>\n",
       "    </tr>\n",
       "    <tr>\n",
       "      <td>699</td>\n",
       "      <td>2011-01-03</td>\n",
       "      <td>15.000000</td>\n",
       "    </tr>\n",
       "    <tr>\n",
       "      <td>700</td>\n",
       "      <td>2011-01-02</td>\n",
       "      <td>8.750000</td>\n",
       "    </tr>\n",
       "    <tr>\n",
       "      <td>701</td>\n",
       "      <td>2011-01-02</td>\n",
       "      <td>8.750000</td>\n",
       "    </tr>\n",
       "    <tr>\n",
       "      <td>702</td>\n",
       "      <td>2011-01-01</td>\n",
       "      <td>20.458333</td>\n",
       "    </tr>\n",
       "    <tr>\n",
       "      <td>703</td>\n",
       "      <td>2011-01-01</td>\n",
       "      <td>20.458333</td>\n",
       "    </tr>\n",
       "  </tbody>\n",
       "</table>\n",
       "<p>704 rows × 2 columns</p>\n",
       "</div>"
      ],
      "text/plain": [
       "     date_local  arithmetic_mean\n",
       "0    2011-12-31        17.083333\n",
       "1    2011-12-31        17.083333\n",
       "2    2011-12-30        20.875000\n",
       "3    2011-12-30        20.875000\n",
       "4    2011-12-29        21.208333\n",
       "..          ...              ...\n",
       "699  2011-01-03        15.000000\n",
       "700  2011-01-02         8.750000\n",
       "701  2011-01-02         8.750000\n",
       "702  2011-01-01        20.458333\n",
       "703  2011-01-01        20.458333\n",
       "\n",
       "[704 rows x 2 columns]"
      ]
     },
     "execution_count": 145,
     "metadata": {},
     "output_type": "execute_result"
    }
   ],
   "source": [
    "df"
   ]
  },
  {
   "cell_type": "code",
   "execution_count": null,
   "metadata": {},
   "outputs": [],
   "source": []
  }
 ],
 "metadata": {
  "kernelspec": {
   "display_name": "Python 3",
   "language": "python",
   "name": "python3"
  },
  "language_info": {
   "codemirror_mode": {
    "name": "ipython",
    "version": 3
   },
   "file_extension": ".py",
   "mimetype": "text/x-python",
   "name": "python",
   "nbconvert_exporter": "python",
   "pygments_lexer": "ipython3",
   "version": "3.7.4"
  }
 },
 "nbformat": 4,
 "nbformat_minor": 2
}
